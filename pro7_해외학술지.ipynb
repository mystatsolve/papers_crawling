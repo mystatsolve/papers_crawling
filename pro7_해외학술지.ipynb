{
 "cells": [
  {
   "cell_type": "code",
   "execution_count": 4,
   "metadata": {},
   "outputs": [],
   "source": [
    "import requests\n",
    "from bs4 import BeautifulSoup\n",
    "import pandas as pd\n",
    "import time"
   ]
  },
  {
   "cell_type": "code",
   "execution_count": 2,
   "metadata": {},
   "outputs": [],
   "source": [
    "import openpyxl"
   ]
  },
  {
   "cell_type": "code",
   "execution_count": 8,
   "metadata": {},
   "outputs": [
    {
     "name": "stdout",
     "output_type": "stream",
     "text": [
      "Failed to retrieve page 1\n",
      "                                               Title  \\\n",
      "0                [책][B] Machine learning: the new AI   \n",
      "1             [책][B] Foundations of machine learning   \n",
      "2                  [책][B] Practical machine learning   \n",
      "3                            [책][B] Machine learning   \n",
      "4  [인용][C] Understanding machine learning: From t...   \n",
      "5                [책][B] Elements of machine learning   \n",
      "6    [PDF][PDF] Machine learning algorithms-a review   \n",
      "7          [책][B] The discipline of machine learning   \n",
      "8  [HTML][HTML] Machine learning and its applicat...   \n",
      "9  [PDF][PDF] On applied research in machine lear...   \n",
      "\n",
      "                                            Abstract  \n",
      "0  … what machine learning is, the basics of some...  \n",
      "1  … It covers fundamental modern topics in machi...  \n",
      "2  … Machine learning, will cover the basics of M...  \n",
      "3  … machine learning. The second part includes C...  \n",
      "4                                                     \n",
      "5  … the goals that motivate researchers to study...  \n",
      "6  … Here‟sa quick look at some of the commonly u...  \n",
      "7  … Over the past 50 years the study of Machine ...  \n",
      "8  … and/or supervised machine learning technique...  \n",
      "9  … Much of the \\science\" of Machine Learning is...  \n"
     ]
    }
   ],
   "source": [
    "def scrape_scholar(query, pages=2):\n",
    "    results = []\n",
    "    for page in range(0, pages):\n",
    "        start = page * 10  # Google Scholar lists 10 results per page\n",
    "        url = f'https://scholar.google.com/scholar?q={query}&start={start}'\n",
    "        headers = {'User-Agent': 'Mozilla/5.0'}  # Google Scholar checks for user-agent\n",
    "        response = requests.get(url, headers=headers)\n",
    "        if response.status_code == 200:\n",
    "            soup = BeautifulSoup(response.text, 'html.parser')\n",
    "            # Assuming titles are in 'h3' tags and abstracts in a div with a specific class; these selectors might need to be updated\n",
    "            for entry in soup.find_all('div', class_='gs_ri'):\n",
    "                title = entry.find('h3', class_='gs_rt').text\n",
    "                abstract = entry.find('div', class_='gs_rs').text if entry.find('div', class_='gs_rs') else \"No abstract available\"\n",
    "                results.append({'Title': title, 'Abstract': abstract})\n",
    "        else:\n",
    "            print(f'Failed to retrieve page {page + 1}')\n",
    "    return pd.DataFrame(results)\n",
    "\n",
    "# Example usage\n",
    "query = \"machine learning\"\n",
    "df = scrape_scholar(query, 2)  # Scrape first 2 pages and convert to DataFrame\n",
    "print(df)"
   ]
  }
 ],
 "metadata": {
  "kernelspec": {
   "display_name": "py39",
   "language": "python",
   "name": "python3"
  },
  "language_info": {
   "codemirror_mode": {
    "name": "ipython",
    "version": 3
   },
   "file_extension": ".py",
   "mimetype": "text/x-python",
   "name": "python",
   "nbconvert_exporter": "python",
   "pygments_lexer": "ipython3",
   "version": "3.9.17"
  }
 },
 "nbformat": 4,
 "nbformat_minor": 2
}
