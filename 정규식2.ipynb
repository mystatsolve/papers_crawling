import re
import pandas as pd
def a1(text1):
    pattern = re.compile(r'<//1111//>(.*?)<//2222//>', re.DOTALL)
    a = []
    ID = 1  # 초기 ADID 값을 설정
    matches = pattern.finditer(text1)  # 모든 매치를 찾아 반복 가능 객체로 반환

    for match in matches:
        extracted_text = match.group(1)
        a.append((ID, extracted_text))  # ADID와 추출된 텍스트를 튜플로 리스트에 추가
        ID += 1  # 다음 ADID를 위해 1 증가
    df = pd.DataFrame(a, columns=['ID', 'sentence'])
    return df
